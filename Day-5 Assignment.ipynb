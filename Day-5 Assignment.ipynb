{
 "cells": [
  {
   "cell_type": "markdown",
   "metadata": {},
   "source": [
    "# DAY-5 ASSIGNMENT DATA VISUALIZATION BY YERRAM SAI KIRAN"
   ]
  },
  {
   "cell_type": "code",
   "execution_count": 1,
   "metadata": {},
   "outputs": [],
   "source": [
    "#ASSIGNMENT"
   ]
  },
  {
   "cell_type": "markdown",
   "metadata": {},
   "source": [
    "#Question 1\n",
    "#What is plotly?\n",
    "The Plotly Python library is an interactive open-source library.\n",
    "This can be a very helpful tool for data visualization and understanding the data simply and easily.\n",
    "Plotly graph objects are high-level interface to plotly which are easy to use."
   ]
  },
  {
   "cell_type": "markdown",
   "metadata": {},
   "source": [
    "#Question 2\n",
    "#Where is plotly used?\n",
    "Plotly is used as online graphing, analytics, and statistics tools for individuals and collaboration,\n",
    "as well as scientific graphing libraries for Python, R, MATLAB, Perl, Julia, Arduino, and REST.\n",
    "It can plot various types of graphs and charts like scatter plots, line charts, bar charts, \n",
    "box plots, histograms, pie charts, etc."
   ]
  },
  {
   "cell_type": "markdown",
   "metadata": {},
   "source": [
    "#Question 3\n",
    "#Plot a Pie chart of Indian Car Companies market share in %\n",
    "\n",
    "import numpy as np \n",
    " \n",
    "import plotly \n",
    " \n",
    "import plotly.graph_objects as go \n",
    " \n",
    "import plotly.offline as pyo \n",
    " \n",
    "from plotly.offline import init_notebook_mode\n",
    "\n",
    "init_notebook_mode(connected = True)"
   ]
  },
  {
   "cell_type": "code",
   "execution_count": null,
   "metadata": {},
   "outputs": [],
   "source": [
    "Car_Companies=['Maruthi Suzuki','Hyundai','Kia','Mahindra','Tata','Toyoto']\n",
    "\n",
    "Market_Share=[21.60,20.19,14.68,14.66,8.15,6.25]\n",
    "\n",
    "fig = go.Figure(data=[go.Pie(labels=Car_Companies,values=Market_Share)])\n",
    "fig.show()\n",
    "\n"
   ]
  },
  {
   "cell_type": "code",
   "execution_count": null,
   "metadata": {},
   "outputs": [],
   "source": [
    "#Question 4\n",
    "#plot a bar graph with covid-19 active cases(Max 10 states)\n",
    "In [12]:\n",
    "States=['Maharashtra','Kerela','Karnataka','Tamilnadu','AndhraPradesh','UttarPradesh','West Bengal','Delhi','Chattisgarh','Rajastan']\n",
    "In [21]:\n",
    "Cases=[117698,110616,38752,33665,31850,1789,16143,847,4914,824]\n",
    "fig3 =go.Figure(data=go.Bar(x=States,y=Cases))\n",
    "fig3.show()"
   ]
  }
 ],
 "metadata": {
  "kernelspec": {
   "display_name": "Python 3",
   "language": "python",
   "name": "python3"
  },
  "language_info": {
   "codemirror_mode": {
    "name": "ipython",
    "version": 3
   },
   "file_extension": ".py",
   "mimetype": "text/x-python",
   "name": "python",
   "nbconvert_exporter": "python",
   "pygments_lexer": "ipython3",
   "version": "3.7.6"
  }
 },
 "nbformat": 4,
 "nbformat_minor": 4
}
