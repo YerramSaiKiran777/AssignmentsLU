{
 "cells": [
  {
   "cell_type": "markdown",
   "metadata": {},
   "source": [
    "# DAY-2 ASSIGNMENT BY YERRAM SAI KIRAN"
   ]
  },
  {
   "cell_type": "markdown",
   "metadata": {},
   "source": [
    "#ASSIGNMENT"
   ]
  },
  {
   "cell_type": "code",
   "execution_count": 2,
   "metadata": {},
   "outputs": [],
   "source": [
    "import numpy as np\n",
    "import matplotlib.pyplot as plt\n",
    "import pandas as pd\n",
    "import seaborn as sns\n",
    "%matplotlib inline\n",
    "from numpy.random import randn,randint,uniform,sample"
   ]
  },
  {
   "cell_type": "code",
   "execution_count": 3,
   "metadata": {},
   "outputs": [
    {
     "data": {
      "text/html": [
       "<div>\n",
       "<style scoped>\n",
       "    .dataframe tbody tr th:only-of-type {\n",
       "        vertical-align: middle;\n",
       "    }\n",
       "\n",
       "    .dataframe tbody tr th {\n",
       "        vertical-align: top;\n",
       "    }\n",
       "\n",
       "    .dataframe thead th {\n",
       "        text-align: right;\n",
       "    }\n",
       "</style>\n",
       "<table border=\"1\" class=\"dataframe\">\n",
       "  <thead>\n",
       "    <tr style=\"text-align: right;\">\n",
       "      <th></th>\n",
       "      <th>a</th>\n",
       "      <th>b</th>\n",
       "      <th>c</th>\n",
       "      <th>d</th>\n",
       "    </tr>\n",
       "  </thead>\n",
       "  <tbody>\n",
       "    <tr>\n",
       "      <th>0</th>\n",
       "      <td>1.150226</td>\n",
       "      <td>-0.470122</td>\n",
       "      <td>0.921061</td>\n",
       "      <td>-0.520279</td>\n",
       "    </tr>\n",
       "    <tr>\n",
       "      <th>1</th>\n",
       "      <td>-0.173687</td>\n",
       "      <td>1.781825</td>\n",
       "      <td>1.236426</td>\n",
       "      <td>-0.067515</td>\n",
       "    </tr>\n",
       "    <tr>\n",
       "      <th>2</th>\n",
       "      <td>0.205608</td>\n",
       "      <td>-0.427618</td>\n",
       "      <td>-0.626506</td>\n",
       "      <td>-0.409053</td>\n",
       "    </tr>\n",
       "    <tr>\n",
       "      <th>3</th>\n",
       "      <td>-0.520634</td>\n",
       "      <td>-2.015183</td>\n",
       "      <td>0.938410</td>\n",
       "      <td>-0.174897</td>\n",
       "    </tr>\n",
       "    <tr>\n",
       "      <th>4</th>\n",
       "      <td>-0.523913</td>\n",
       "      <td>0.365389</td>\n",
       "      <td>0.856232</td>\n",
       "      <td>1.007685</td>\n",
       "    </tr>\n",
       "    <tr>\n",
       "      <th>5</th>\n",
       "      <td>2.171296</td>\n",
       "      <td>0.969076</td>\n",
       "      <td>0.503858</td>\n",
       "      <td>1.364641</td>\n",
       "    </tr>\n",
       "    <tr>\n",
       "      <th>6</th>\n",
       "      <td>-0.293715</td>\n",
       "      <td>0.816589</td>\n",
       "      <td>0.568889</td>\n",
       "      <td>1.319435</td>\n",
       "    </tr>\n",
       "    <tr>\n",
       "      <th>7</th>\n",
       "      <td>-0.402963</td>\n",
       "      <td>-1.516648</td>\n",
       "      <td>-0.701650</td>\n",
       "      <td>-0.519009</td>\n",
       "    </tr>\n",
       "    <tr>\n",
       "      <th>8</th>\n",
       "      <td>1.087424</td>\n",
       "      <td>-2.929352</td>\n",
       "      <td>-0.910413</td>\n",
       "      <td>1.432782</td>\n",
       "    </tr>\n",
       "    <tr>\n",
       "      <th>9</th>\n",
       "      <td>0.585380</td>\n",
       "      <td>-0.800624</td>\n",
       "      <td>-0.813471</td>\n",
       "      <td>-0.386792</td>\n",
       "    </tr>\n",
       "  </tbody>\n",
       "</table>\n",
       "</div>"
      ],
      "text/plain": [
       "          a         b         c         d\n",
       "0  1.150226 -0.470122  0.921061 -0.520279\n",
       "1 -0.173687  1.781825  1.236426 -0.067515\n",
       "2  0.205608 -0.427618 -0.626506 -0.409053\n",
       "3 -0.520634 -2.015183  0.938410 -0.174897\n",
       "4 -0.523913  0.365389  0.856232  1.007685\n",
       "5  2.171296  0.969076  0.503858  1.364641\n",
       "6 -0.293715  0.816589  0.568889  1.319435\n",
       "7 -0.402963 -1.516648 -0.701650 -0.519009\n",
       "8  1.087424 -2.929352 -0.910413  1.432782\n",
       "9  0.585380 -0.800624 -0.813471 -0.386792"
      ]
     },
     "execution_count": 3,
     "metadata": {},
     "output_type": "execute_result"
    }
   ],
   "source": [
    "df=pd.DataFrame(randn(10,4),columns=['a','b','c','d'])\n",
    "df"
   ]
  },
  {
   "cell_type": "code",
   "execution_count": 13,
   "metadata": {},
   "outputs": [
    {
     "data": {
      "image/png": "[encoded data removed]",
      "text/plain": [
       "<Figure size 360x360 with 1 Axes>"
      ]
     },
     "metadata": {
      "needs_background": "light"
     },
     "output_type": "display_data"
    }
   ],
   "source": [
    "df.plot(kind='bar',title='Bar Chart',figsize=(5,5),grid=True)\n",
    "plt.legend(loc='lower left')\n",
    "plt.title(\"Bar Graph\", color='blue')\n",
    "plt.xlabel('x-axis', color='brown')\n",
    "plt.ylabel('y-axis', color='brown')\n",
    "plt.show()"
   ]
  },
  {
   "cell_type": "code",
   "execution_count": null,
   "metadata": {},
   "outputs": [],
   "source": []
  }
 ],
 "metadata": {
  "kernelspec": {
   "display_name": "Python 3",
   "language": "python",
   "name": "python3"
  },
  "language_info": {
   "codemirror_mode": {
    "name": "ipython",
    "version": 3
   },
   "file_extension": ".py",
   "mimetype": "text/x-python",
   "name": "python",
   "nbconvert_exporter": "python",
   "pygments_lexer": "ipython3",
   "version": "3.7.6"
  }
 },
 "nbformat": 4,
 "nbformat_minor": 4
}
